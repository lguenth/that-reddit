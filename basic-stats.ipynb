{
 "cells": [
  {
   "cell_type": "code",
   "execution_count": null,
   "metadata": {},
   "outputs": [],
   "source": [
    "import pandas as pd\n",
    "import nltk\n",
    "from nltk.tokenize import word_tokenize\n",
    "import matplotlib.pyplot as plt\n",
    "\n",
    "df = pd.read_pickle(\"../pickled/annotations/submissions-basic_stats.pkl\").sort_values(by='count_that', ascending=False).reset_index(drop=True)\n",
    "df['occurrence_ratio'] = (df['count_that'] / df['count_tokens'])\n",
    "\n",
    "display(df)"
   ]
  },
  {
   "cell_type": "code",
   "execution_count": null,
   "metadata": {},
   "outputs": [],
   "source": [
    "corpus_size_s = df[\"count_sentences\"].sum()\n",
    "corpus_size_t = df[\"count_tokens\"].sum()\n",
    "print(\"Total size of corpus:\", corpus_size_t, \"tokens in\", corpus_size_s, \"sentences\")\n",
    "\n",
    "average_length_s = df[\"count_sentences\"].mean()\n",
    "average_length_t = df[\"count_tokens\"].mean()\n",
    "print(\"Average length in sentences per text:\", round(average_length_s))\n",
    "print(\"Average length in tokens per text:\", round(average_length_t))\n",
    "\n",
    "average_thats = df[\"count_that\"].mean()\n",
    "print(\"\\nAverage number of 'that' occurrences per text:\", average_thats)\n",
    "\n",
    "average_ratio = df['occurrence_ratio'].mean()\n",
    "print(\"Average occurrence ratio:\", round(average_ratio * 100, 2), \"%\")\n"
   ]
  },
  {
   "cell_type": "code",
   "execution_count": null,
   "metadata": {},
   "outputs": [],
   "source": [
    "plt.figure(figsize=(8, 6))\n",
    "plt.scatter(df['count_tokens'], df['count_that'], marker='o', c=df['count_that'], cmap=\"plasma\")\n",
    "plt.title('Occurrences relative to text length')\n",
    "plt.xlabel('Text length (in tokens)')\n",
    "plt.ylabel('Occurrences of \"that\"')\n",
    "plt.grid(True)\n",
    "plt.show()\n"
   ]
  },
  {
   "cell_type": "code",
   "execution_count": null,
   "metadata": {},
   "outputs": [],
   "source": [
    "token_to_compare = \"that\"\n",
    "\n",
    "df_sorted = df.loc[df.project == \"aita\"].sort_values(by=\"id\", ascending=False)\n",
    "plt.figure(figsize=(10, 6))\n",
    "\n",
    "bar_width = 0.6\n",
    "bar_positions = range(len(df_sorted[\"id\"]))\n",
    "\n",
    "colors = plt.cm.plasma(\n",
    "    df_sorted[\"count_that\"] / max(df_sorted[\"count_that\"])\n",
    ")\n",
    "\n",
    "plt.bar(bar_positions, df_sorted[\"occurrence_ratio\"] * 100, width=bar_width, color=colors)\n",
    "plt.xlabel(\"Submissions sorted by ID\", fontsize=12)\n",
    "plt.ylabel(f'Occurrence rate of \"{token_to_compare}\" (%)', fontsize=12)\n",
    "plt.title(\n",
    "    f'Frequency of \"{token_to_compare}\" across AITA submissions',\n",
    "    fontsize=14,\n",
    "    fontweight=\"bold\",\n",
    ")\n",
    "plt.ylim(0, 3)\n",
    "plt.xticks(bar_positions, df_sorted[\"id\"], rotation=90, ha=\"right\", fontsize=10)\n",
    "plt.yticks(fontsize=10)\n",
    "plt.grid(axis=\"y\", linestyle=\"--\", alpha=0.7)\n",
    "plt.tight_layout()\n",
    "\n",
    "plt.savefig(\"../img/aita-frequency-that_plot.png\", dpi=300, bbox_inches=\"tight\")\n",
    "plt.savefig(\"../img/aita-frequency-that_plot.svg\", bbox_inches=\"tight\")\n",
    "\n",
    "plt.show()"
   ]
  },
  {
   "cell_type": "code",
   "execution_count": null,
   "metadata": {},
   "outputs": [],
   "source": [
    "token_to_compare = \"that\"\n",
    "\n",
    "df_sorted = df.loc[df.project == \"tifu\"].sort_values(by=\"id\", ascending=False)\n",
    "plt.figure(figsize=(10, 6))\n",
    "\n",
    "bar_width = 0.6\n",
    "bar_positions = range(len(df_sorted[\"id\"]))\n",
    "\n",
    "colors = plt.cm.plasma(\n",
    "    df_sorted[\"count_that\"] / max(df_sorted[\"count_that\"])\n",
    ")\n",
    "\n",
    "plt.bar(bar_positions, df_sorted[\"occurrence_ratio\"] * 100, width=bar_width, color=colors)\n",
    "plt.xlabel(\"Submissions sorted by ID\", fontsize=12)\n",
    "plt.ylabel(f'Occurrence rate of \"{token_to_compare}\" (%)', fontsize=12)\n",
    "plt.title(\n",
    "    f'Frequency of \"{token_to_compare}\" across TIFU submissions',\n",
    "    fontsize=14,\n",
    "    fontweight=\"bold\",\n",
    ")\n",
    "plt.ylim(0, 3)\n",
    "plt.xticks(bar_positions, df_sorted[\"id\"], rotation=90, ha=\"right\", fontsize=10)\n",
    "plt.yticks(fontsize=10)\n",
    "plt.grid(axis=\"y\", linestyle=\"--\", alpha=0.7)\n",
    "plt.tight_layout()\n",
    "\n",
    "plt.savefig(\"../img/tifu-frequency-that_plot.png\", dpi=300, bbox_inches=\"tight\")\n",
    "plt.savefig(\"../img/tifu-frequency-that_plot.svg\", bbox_inches=\"tight\")\n",
    "\n",
    "plt.show()"
   ]
  },
  {
   "cell_type": "markdown",
   "metadata": {},
   "source": [
    "## Thats"
   ]
  },
  {
   "cell_type": "code",
   "execution_count": null,
   "metadata": {},
   "outputs": [],
   "source": [
    "import glob\n",
    "\n",
    "# AITA\n",
    "\n",
    "aita_files = glob.glob(\"../pickled/annotations/aita/*-thats.pkl\")\n",
    "aita_thats_dfs = [pd.read_pickle(d).assign(**{\"post_id\": d.split(\"/\")[4].rstrip(\"-thats.pkl\")}).assign(**{\"project\": \"aita\"}) for d in aita_files]\n",
    "aita_thats = pd.concat(aita_thats_dfs).reset_index(drop=True)\n",
    "aita_thats"
   ]
  },
  {
   "cell_type": "code",
   "execution_count": null,
   "metadata": {},
   "outputs": [],
   "source": [
    "# TIFU\n",
    "\n",
    "tifu_files = glob.glob(\"../pickled/annotations/tifu/*-thats.pkl\")\n",
    "tifu_thats_dfs = [pd.read_pickle(d).assign(**{\"post_id\": d.split(\"/\")[4].rstrip(\"-thats.pkl\")}).assign(**{\"project\": \"tifu\"}) for d in tifu_files]\n",
    "tifu_thats = pd.concat(tifu_thats_dfs).reset_index(drop=True)\n",
    "tifu_thats"
   ]
  },
  {
   "cell_type": "code",
   "execution_count": null,
   "metadata": {},
   "outputs": [],
   "source": [
    "# TOTAL\n",
    "\n",
    "thats = pd.concat([aita_thats, tifu_thats]).reset_index(drop=True)\n",
    "thats"
   ]
  },
  {
   "cell_type": "code",
   "execution_count": null,
   "metadata": {},
   "outputs": [],
   "source": [
    "conjunctions = thats.loc[thats.upos == \"SCONJ\"]\n",
    "pronouns = thats.loc[thats.upos == \"PRON\"]\n",
    "determiners = thats.loc[thats.upos == \"DET\"]\n",
    "adverbs = thats.loc[thats.upos == \"ADV\"]\n",
    "\n",
    "print(f\"\"\"\n",
    "    Used as a conjunction: {len(conjunctions)}\n",
    "    Used as a pronoun: {len(pronouns)} \n",
    "    Used as a determiner: {len(determiners)}\n",
    "    Used as an adverb: {len(adverbs)}\n",
    "\"\"\")"
   ]
  },
  {
   "cell_type": "code",
   "execution_count": null,
   "metadata": {},
   "outputs": [],
   "source": [
    "conjunctions.to_csv(\"../annotated/thats-conjunctions.csv\", index=False)\n",
    "\n",
    "with open(\"../filtered/thats-conjunctions-aita-tifu-combined.txt\", \"w+\") as file:\n",
    "    for sent in set(conjunctions.sentence):\n",
    "        file.write(sent + \"\\n\")\n"
   ]
  },
  {
   "cell_type": "code",
   "execution_count": null,
   "metadata": {},
   "outputs": [],
   "source": [
    "categories = [\"SCONJ\", \"PRON\", \"DET\", \"ADV\"]\n",
    "counts = [len(conjunctions), len(pronouns), len(determiners), len(adverbs)]\n",
    "\n",
    "plt.figure(figsize=(8, 6))\n",
    "plt.title('\"that\" by function')\n",
    "plt.xlabel(\"Part of speech\")\n",
    "plt.ylabel(\"Frequency\")\n",
    "plt.xticks(rotation=45)\n",
    "plt.grid(axis=\"y\", linestyle=\"--\", alpha=0.7)\n",
    "plt.tight_layout()\n",
    "\n",
    "bars = plt.bar(categories, counts, color=\"darkblue\")\n",
    "for bar, count in zip(bars, counts):\n",
    "    plt.text(\n",
    "        bar.get_x() + bar.get_width() / 2,\n",
    "        bar.get_height() + 0.5,\n",
    "        count,\n",
    "        ha=\"center\",\n",
    "        va=\"bottom\",\n",
    "    )\n",
    "\n",
    "plt.show()"
   ]
  },
  {
   "cell_type": "markdown",
   "metadata": {},
   "source": [
    "## Zeros"
   ]
  },
  {
   "cell_type": "code",
   "execution_count": null,
   "metadata": {},
   "outputs": [],
   "source": [
    "aita_files = glob.glob(\"../pickled/annotations/aita/*-zeros.pkl\")\n",
    "aita_zeros_dfs = [pd.read_pickle(d).assign(**{\"post_id\": d.split(\"/\")[4].rstrip(\"-zeros.pkl\")}).assign(**{\"project\": \"aita\"}) for d in aita_files]\n",
    "aita_zeros = pd.concat(aita_zeros_dfs).reset_index(drop=True)\n",
    "aita_zeros"
   ]
  },
  {
   "cell_type": "code",
   "execution_count": null,
   "metadata": {},
   "outputs": [],
   "source": [
    "tifu_files = glob.glob(\"../pickled/annotations/tifu/*-zeros.pkl\")\n",
    "tifu_zeros_dfs = [pd.read_pickle(d).assign(**{\"post_id\": d.split(\"/\")[4].rstrip(\"-zeros.pkl\")}).assign(**{\"project\": \"tifu\"}) for d in tifu_files]\n",
    "tifu_zeros = pd.concat(tifu_zeros_dfs).reset_index(drop=True)\n",
    "tifu_zeros"
   ]
  },
  {
   "cell_type": "code",
   "execution_count": null,
   "metadata": {},
   "outputs": [],
   "source": [
    "zeros = pd.concat([aita_zeros, tifu_zeros]).reset_index(drop=True)\n",
    "zeros"
   ]
  },
  {
   "cell_type": "code",
   "execution_count": null,
   "metadata": {},
   "outputs": [],
   "source": [
    "import os\n",
    "\n",
    "dropped_cols = [\"sentence_begin\", \"sentence_end\"]\n",
    "\n",
    "os.makedirs(\"../annotated/\", exist_ok=True)  \n",
    "thats.drop(columns=dropped_cols).to_csv(\"../annotated/thats.csv\", index=False)  \n",
    "zeros.drop(columns=dropped_cols).to_csv(\"../annotated/zeros.csv\", index=False)  "
   ]
  }
 ],
 "metadata": {
  "kernelspec": {
   "display_name": "default",
   "language": "python",
   "name": "python3"
  },
  "language_info": {
   "codemirror_mode": {
    "name": "ipython",
    "version": 3
   },
   "file_extension": ".py",
   "mimetype": "text/x-python",
   "name": "python",
   "nbconvert_exporter": "python",
   "pygments_lexer": "ipython3",
   "version": "3.11.6"
  }
 },
 "nbformat": 4,
 "nbformat_minor": 2
}
